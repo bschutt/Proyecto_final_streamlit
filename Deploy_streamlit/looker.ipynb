{
 "cells": [
  {
   "cell_type": "code",
   "execution_count": 1,
   "metadata": {},
   "outputs": [
    {
     "name": "stderr",
     "output_type": "stream",
     "text": [
      "2023-11-23 21:01:57.069 \n",
      "  \u001b[33m\u001b[1mWarning:\u001b[0m to view this Streamlit app on a browser, run it with the following\n",
      "  command:\n",
      "\n",
      "    streamlit run C:\\Users\\Brenda\\AppData\\Local\\Packages\\PythonSoftwareFoundation.Python.3.10_qbz5n2kfra8p0\\LocalCache\\local-packages\\Python310\\site-packages\\ipykernel_launcher.py [ARGUMENTS]\n"
     ]
    }
   ],
   "source": [
    "import streamlit as st\n",
    "import streamlit.components.v1 as components\n",
    "import webbrowser\n",
    "\n",
    "st.set_page_config(\n",
    "    page_title=\"Looker\",\n",
    "    page_icon=\"🔍\",\n",
    "    layout=\"wide\",\n",
    ")\n",
    "\n",
    "coln, colm = st.columns([4, 1])\n",
    "with coln:\n",
    "    st.header(\"📊 Looker Dashboards\")\n",
    "with colm:\n",
    "    # You can replace the image URL with the Looker logo or any other image you prefer\n",
    "    st.image('https://www.canva.com/design/DAF1Bz0MA6A/h-w-AQFct8WEPEeWncyz0Q/view?utm_content=DAF1Bz0MA6A&utm_campaign=designshare&utm_medium=link&utm_source=editor', width=150)\n",
    "st.markdown('---')\n",
    "\n",
    "# Replace this with your Looker dashboard URL\n",
    "looker_url = 'https://lookerstudio.google.com/s/uwgvVUM6nrM'\n",
    "\n",
    "def toLooker():\n",
    "    webbrowser.open_new_tab(looker_url)\n",
    "\n",
    "container1 = st.container()\n",
    "\n",
    "with container1:\n",
    "    cola, colb, colc = st.columns([2, 4, 2])\n",
    "\n",
    "with colb:\n",
    "    # Embed Looker dashboard using iframe\n",
    "    components.iframe(looker_url, width=768, height=603, scrolling=True)\n",
    "\n",
    "with cola:\n",
    "    st.button(label='Open in Looker', on_click=toLooker)\n"
   ]
  }
 ],
 "metadata": {
  "kernelspec": {
   "display_name": "Python 3",
   "language": "python",
   "name": "python3"
  },
  "language_info": {
   "codemirror_mode": {
    "name": "ipython",
    "version": 3
   },
   "file_extension": ".py",
   "mimetype": "text/x-python",
   "name": "python",
   "nbconvert_exporter": "python",
   "pygments_lexer": "ipython3",
   "version": "3.10.11"
  }
 },
 "nbformat": 4,
 "nbformat_minor": 2
}
